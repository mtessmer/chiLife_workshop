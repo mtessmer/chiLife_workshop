{
 "cells": [
  {
   "cell_type": "code",
   "execution_count": null,
   "id": "972fd9d5-fbf2-408e-98b0-0f75d88c7554",
   "metadata": {},
   "outputs": [],
   "source": []
  },
  {
   "cell_type": "markdown",
   "id": "590ecf5e-d45d-463d-9667-75ffb468e90c",
   "metadata": {},
   "source": [
    "# Installing chiLife\n",
    "* Today we are going to cover the basics of chiLife for modeling NCAAs, particularly spin labels for use with SDSL EPR experimental data.\n",
    "* chiLife works on Windows, Linux, and MacOS\n",
    "* chiLife is supported for Python 3.8-3.12\n",
    "* Today I will be running chiLife on Google colab -- Web based Jupyter Notebook for python\n",
    "    * Requires no downloading or installing new programs on your personal machine.\n",
    "    * If you are new to python I reccommand using colab alongside me\n",
    "    > NOTE: Running chiLife locally will generally be faster easier if you are already familiar with the python ecosystem\n",
    "\n",
    "* For those of you running locally: \n",
    "    * chiLife can be installed via `pip` or `conda`\n",
    "    * Please make sure you have the most up to date chiLife version as we just released a new version: 0.3.0! \n",
    "    > NOTE: Windows users running Python 3.12 locally will have to manually install a dependency that is currently broken\n",
    "\n",
    "## Clone workshop repo"
   ]
  },
  {
   "cell_type": "code",
   "execution_count": null,
   "id": "ade0d759-6666-4eb7-a0c3-3ce084c6ef6e",
   "metadata": {},
   "outputs": [],
   "source": []
  },
  {
   "cell_type": "code",
   "execution_count": null,
   "id": "1b3ba998-d7a8-4bf7-b990-5ea8ea0d441b",
   "metadata": {},
   "outputs": [],
   "source": [
    "! git clone https://github.com/mtessmer/chilife_workshop.git"
   ]
  },
  {
   "cell_type": "code",
   "execution_count": null,
   "id": "1a73baf0-d2f1-4230-9bd4-9ce48a3c45da",
   "metadata": {},
   "outputs": [],
   "source": [
    "cd chilife_workshop"
   ]
  },
  {
   "cell_type": "code",
   "execution_count": null,
   "id": "4b5a168d-ee81-4ec4-9ab9-b611057c4f93",
   "metadata": {},
   "outputs": [],
   "source": [
    "# If you are running Python 3.12 locally on windows you have to install rtoml first:\n",
    "# ! pip install -U deps/rtoml-0.10.0-cp312-none-win_amd64.whl\n",
    "\n",
    "! pip install -U chilife"
   ]
  },
  {
   "cell_type": "markdown",
   "id": "1159e807-8b55-4fe0-9c1f-874e3ee0553f",
   "metadata": {},
   "source": [
    "#  While that downloads I will give you a quick overview of how we are going to run this workshop.\n",
    "\n",
    "* Workshop will be split into 4 sections\n",
    "    1) Basic spin labeling\n",
    "    2) Spin labeling with proteins\n",
    "    3) Scripting with chiLife\n",
    "    4) Trajectories and custom rotamer libraries\n",
    "\n",
    "* Each section will end with a Q&A and a short break."
   ]
  },
  {
   "cell_type": "markdown",
   "id": "37e95fe9-5cc5-4087-abc0-5e33000da42a",
   "metadata": {},
   "source": [
    "# Basic spin label objects\n",
    "This module is intended to teach the basics of creating a spin label and provide an overview of spin label features, methods and how they can be manipulated."
   ]
  },
  {
   "cell_type": "code",
   "execution_count": 1,
   "id": "3b52e8ec-19d8-430f-87f6-384278353fc0",
   "metadata": {},
   "outputs": [],
   "source": [
    "import numpy as np\n",
    "import matplotlib.pyplot as plt\n",
    "import chilife as xl"
   ]
  },
  {
   "cell_type": "markdown",
   "id": "eec2a997-5767-45e5-b73f-d06e1f186495",
   "metadata": {},
   "source": [
    "# The SpinLabel object\n",
    "\n",
    "To create a basic spin label, all we need is to know the spin label name. If you have used other software, you may know that spin labels, even R1 have many different names\n",
    "\n",
    "MMM: R1A  \n",
    "MTSSLWizard: R1  \n",
    "MDDS: CYR1  \n",
    "\n",
    "Furthermore,  chiLife places a heavy emphasis on creating your own rotlibs and sharing a lot of rotlibs will have different names on everyones machine.\n",
    "Available rotlibs may also be dependent on what directory you are in.\n",
    "\n",
    "For this reason chiLife has a function `list_available_rotlibs`"
   ]
  },
  {
   "cell_type": "code",
   "execution_count": 2,
   "id": "e2b906f4-8e30-4075-958e-9fba0827183a",
   "metadata": {},
   "outputs": [
    {
     "name": "stdout",
     "output_type": "stream",
     "text": [
      "\n",
      "********************************************************************************\n",
      "*                     Rotlibs in chilife rotlib directory                      *\n",
      "********************************************************************************\n",
      "                                monofunctional:                                 \n",
      "--------------------------------------------------------------------------------\n",
      "I1M  : Iodoacetamide PROXYL spin label (MMM rotlib)\n",
      "M1M  : Maleimide PROXYL spin label (MMM rotlib)\n",
      "R1M  : MTSL/R1 spin label (MMM rotlib)\n",
      "R7M  : Bromo-MTSL spin label (MMM rotlib)\n",
      "TOC  : TOAC spin label made using CREST and GFN-FF\n",
      "TRT  : Trityl spin label with OEt R group\n",
      "V1M  : IDSL/V1 Spin label (MMM Rotlib)\n",
      "--------------------------------------------------------------------------------\n",
      "                                 bifunctional:                                  \n",
      "--------------------------------------------------------------------------------\n",
      "DCNip2  : dHis-Cu(II)-NTA in the ip2 context\n",
      "DCNip4  : dHis-Cu(II)-NTA in the ip4 context\n",
      "--------------------------------------------------------------------------------\n",
      "\n",
      "********************************************************************************\n",
      "*                               DUNBRACK ROTLIBS                               *\n",
      "*    ARG, ASN, ASP, CSY, GLN, GLU, HIS, ILE, LEU, LYS, MET, PHE, PRO, SER,     *\n",
      "*                              THR, TRP, TYR, VAL                              *\n",
      "*                                (no ALA, GLY)                                 *\n",
      "********************************************************************************\n"
     ]
    }
   ],
   "source": [
    "xl.list_available_rotlibs()"
   ]
  },
  {
   "cell_type": "markdown",
   "id": "6ea66ec0-6f70-49b6-8967-e8379c8e0b0c",
   "metadata": {},
   "source": [
    "If you wish to know more about a particular rotlib, use the `rotlib_info` function"
   ]
  },
  {
   "cell_type": "code",
   "execution_count": 3,
   "id": "31245ecf-d40a-4338-9cd1-d964c0444ed6",
   "metadata": {},
   "outputs": [
    {
     "name": "stdout",
     "output_type": "stream",
     "text": [
      "\n",
      "********************************************************************************\n",
      "*  Rotamer Library Name:                                                  R1M  *\n",
      "********************************************************************************\n",
      "Rotamer Library Name: R1M\n",
      "File: E:\\07)Programming\\Python\\chiLife\\src\\chilife\\data\\rotamer_libraries\\user_r\n",
      "    otlibs\\R1M_rotlib.npz\n",
      "Description: MTSL/R1 spin label (MMM rotlib)\n",
      "Comment: From MMM 2021\n",
      "\n",
      "Length of library: 216\n",
      "Dihedral definitions: \n",
      "    ['N' 'CA' 'CB' 'SG']\n",
      "    ['CA' 'CB' 'SG' 'SD']\n",
      "    ['CB' 'SG' 'SD' 'CE']\n",
      "    ['SG' 'SD' 'CE' 'C3']\n",
      "    ['SD' 'CE' 'C3' 'C4']\n",
      "Spin atoms: ['N1' 'O1']\n",
      "Number of atoms: N: 2, C: 12, O: 2, S: 2, H: 18\n",
      "Number of heavy atoms: 18\n",
      "Reference: \n",
      "\n",
      "Polyhach, Y.; Bordignon, E.; Jeschke, G. Rotamer Libraries of Spin \n",
      "    Labelled Cysteines for Protein Studies. Phys. Chem. Chem. Phys. 2010, 13 \n",
      "    (6), 2356-2366. https://doi.org/10.1039/c0cp01865a.\n",
      "\n",
      "Jeschke, G. MMM: A \n",
      "    Toolbox for Integrative Structure Modeling. Protein Sci. 2018, 27 (1), \n",
      "    76-85. https://doi.org/10.1002/pro.3269.\n",
      "chiLife rotlib format: 1.3\n",
      "********************************************************************************\n"
     ]
    }
   ],
   "source": [
    "xl.rotlib_info('R1M')"
   ]
  },
  {
   "cell_type": "markdown",
   "id": "e5aee31f-1d2b-4d23-97a7-a0f0dcdd1578",
   "metadata": {},
   "source": [
    "\n",
    "\n",
    "chiLife is object oriented so the philosophy behind chilife is that we can create SpinLabel objects and use them for tasks like predicting experimental observables.  \n",
    "\n",
    "We can create a SpinLabel object simply by calling the `xl.SpinLabel` constructor"
   ]
  },
  {
   "cell_type": "code",
   "execution_count": 13,
   "id": "9dacdec6-d2dd-4ef8-83c7-2edba103b600",
   "metadata": {},
   "outputs": [
    {
     "name": "stdout",
     "output_type": "stream",
     "text": [
      "Rotamer ensemble with 216 members\n",
      "  Name: 1R1M\n",
      "  Label: R1M\n",
      "  Site: 1\n",
      "  Dihedral definitions:\n",
      "    ['N' 'CA' 'CB' 'SG']\n",
      "    ['CA' 'CB' 'SG' 'SD']\n",
      "    ['CB' 'SG' 'SD' 'CE']\n",
      "    ['SG' 'SD' 'CE' 'C3']\n",
      "    ['SD' 'CE' 'C3' 'C4']\n",
      "  spin atoms:\n",
      "    ['N1' 'O1']\n"
     ]
    }
   ],
   "source": [
    "R1M = xl.SpinLabel('R1M') # use_H=True to incude hydrogen atoms.\n",
    "\n",
    "\n",
    "print(R1M)"
   ]
  },
  {
   "cell_type": "code",
   "execution_count": 14,
   "id": "7ac57ad0-87f3-4650-9e01-fae8feac9334",
   "metadata": {},
   "outputs": [],
   "source": [
    "xl.save(R1M)\n",
    "# Open 1R1M.pdb in pymol."
   ]
  },
  {
   "cell_type": "markdown",
   "id": "a9b3481c-5d53-437c-a8e6-ffb54621db06",
   "metadata": {},
   "source": [
    "Now we can explor some of the properties of the `SpinLabel` object  \n",
    "\n",
    "<img src=\"https://github.com/mtessmer/chiLife_workshop/blob/main/img/Fig1.1.png?raw=true\" style=\"width: 800px;\"/>"
   ]
  },
  {
   "cell_type": "code",
   "execution_count": 15,
   "id": "b5d78ef1-d432-4dfe-9ab1-5ec6f98f4fd5",
   "metadata": {},
   "outputs": [
    {
     "name": "stdout",
     "output_type": "stream",
     "text": [
      "name:  1R1M\n",
      "coords:  (216, 18, 3)\n",
      "spin_center:  (216, 3)\n",
      "dihedrals:  (216, 5)\n"
     ]
    }
   ],
   "source": [
    "print('name: ', R1M.name)\n",
    "print('coords: ', R1M.coords.shape)\n",
    "print('spin_center: ', R1M.spin_centers.shape)\n",
    "print('dihedrals: ', R1M.dihedrals.shape)"
   ]
  },
  {
   "cell_type": "markdown",
   "id": "57268c19-7f0a-4d0f-838c-9023bb49ed60",
   "metadata": {},
   "source": [
    "All of these are of course plotable."
   ]
  },
  {
   "cell_type": "code",
   "execution_count": 16,
   "id": "598c6f65-6fe0-4cfc-a374-cd0c61a691da",
   "metadata": {},
   "outputs": [
    {
     "data": {
      "image/png": "[encoded data removed]",
      "text/plain": [
       "<Figure size 640x480 with 1 Axes>"
      ]
     },
     "metadata": {},
     "output_type": "display_data"
    }
   ],
   "source": [
    "fig, ax = plt.subplots()\n",
    "ax.hist(R1M.dihedrals[:,0], bins=20, label=r'$\\chi_1$')\n",
    "ax.legend()\n",
    "plt.show()"
   ]
  },
  {
   "cell_type": "markdown",
   "id": "380809d0-56ee-42ea-8541-205dc7fef8c2",
   "metadata": {},
   "source": [
    "The properties of a SpinLabel are mutable"
   ]
  },
  {
   "cell_type": "code",
   "execution_count": 21,
   "id": "dc341ac3-d561-4f8f-957f-be01057853ba",
   "metadata": {},
   "outputs": [
    {
     "data": {
      "text/plain": [
       "array([-180., -180., -180., -180.,  180.,  180., -180., -180., -180.,\n",
       "       -180., -180., -180., -180., -180., -180., -180., -180., -180.,\n",
       "       -180., -180., -180., -180.,  180.,  180., -180., -180., -180.,\n",
       "       -180.,  180.,  180., -180., -180., -180., -180., -180., -180.,\n",
       "        180.,  180.,  180.,  180., -180., -180., -180., -180., -180.,\n",
       "       -180.,  180.,  180., -180., -180.,  180.,  180., -180., -180.,\n",
       "       -180., -180., -180., -180., -180., -180., -180., -180., -180.,\n",
       "        180.,  180.,  180.,  180., -180., -180., -180., -180., -180.,\n",
       "       -180.,  180.,  180., -180., -180.,  180.,  180., -180., -180.,\n",
       "       -180., -180., -180., -180., -180., -180., -180.,  180.,  180.,\n",
       "       -180., -180., -180., -180., -180., -180., -180., -180., -180.,\n",
       "       -180., -180., -180., -180.,  180.,  180., -180., -180., -180.,\n",
       "       -180., -180., -180., -180., -180., -180.,  180.,  180.,  180.,\n",
       "        180.,  180., -180., -180., -180., -180., -180., -180., -180.,\n",
       "       -180., -180., -180.,  180.,  180.,  180.,  180., -180., -180.,\n",
       "        180.,  180., -180., -180., -180., -180., -180., -180., -180.,\n",
       "       -180.,  180.,  180., -180., -180.,  180., -180., -180., -180.,\n",
       "       -180., -180.,  180.,  180., -180., -180., -180., -180., -180.,\n",
       "        180., -180., -180., -180., -180., -180., -180.,  180., -180.,\n",
       "       -180., -180., -180., -180., -180., -180., -180., -180., -180.,\n",
       "        180., -180.,  180., -180., -180., -180., -180., -180.,  180.,\n",
       "       -180.,  180., -180., -180., -180., -180., -180., -180.,  180.,\n",
       "       -180., -180., -180.,  180.,  180.,  180., -180., -180.,  180.,\n",
       "        180.,  180., -180., -180., -180.,  180.,  180., -180., -180.])"
      ]
     },
     "execution_count": 21,
     "metadata": {},
     "output_type": "execute_result"
    }
   ],
   "source": [
    "d2[:,0] - R1M.dihedrals[:, 0]"
   ]
  },
  {
   "cell_type": "code",
   "execution_count": 18,
   "id": "50eef881-2019-4619-b9c1-4021ebe7106d",
   "metadata": {},
   "outputs": [
    {
     "name": "stderr",
     "output_type": "stream",
     "text": [
      "WARNING:py.warnings:E:\\07)Programming\\Python\\chiLife\\src\\chilife\\RotamerEnsemble.py:1197: UserWarning: WARNING: Setting dihedrals in this fashion will set all bond lengths and angles to that of the first rotamer in the library effectively removing stereo-isomers from the ensemble. It will also set all weights to .\n",
      "  warnings.warn('WARNING: Setting dihedrals in this fashion will set all bond lengths and angles to that '\n",
      "\n"
     ]
    }
   ],
   "source": [
    "# dihedrals and coords and weights are mutable!\n",
    "# R1M.coords = R1M.coords + np.array([10, 10, 10])\n",
    "# R1M.name += '2' # append 2 to name\\\n",
    "# xl.save('1R1M2.pdb', R1M)\n",
    "\n",
    "R1M.dihedrals += [[180, 0, 0, 0, 0]]\n",
    "R1M.name = R1M.name[:-1] + '3'\n",
    "xl.save('1R1M3.pdb', R1M)"
   ]
  },
  {
   "cell_type": "markdown",
   "id": "5425ad3e-a3b8-4d03-b285-855f01b24f9c",
   "metadata": {},
   "source": [
    "So it is easy to see how chiLife gives you very detailed, but simple control over the major features of the spin label objects. Using these kinds of detailed controls you can perform tasks to optimize rotamer librares:\n",
    "\n",
    "eg: fit dihedrals, fit weights, create ensembles by sampling from a larger library.  "
   ]
  },
  {
   "cell_type": "markdown",
   "id": "2a433e9e-f88b-441e-beb1-2733e3e41b92",
   "metadata": {},
   "source": [
    "# Different label construction schemes\n",
    "\n",
    "<img src=\"https://github.com/mtessmer/chiLife_workshop/blob/main/img/Fig1.2.png?raw=true\" style=\"width: 800px;\"/>"
   ]
  },
  {
   "cell_type": "code",
   "execution_count": 1,
   "id": "71543f4b-9a62-45a2-a7a2-2e3bbe175b1e",
   "metadata": {},
   "outputs": [
    {
     "ename": "NameError",
     "evalue": "name 'xl' is not defined",
     "output_type": "error",
     "traceback": [
      "\u001b[1;31m---------------------------------------------------------------------------\u001b[0m",
      "\u001b[1;31mNameError\u001b[0m                                 Traceback (most recent call last)",
      "Cell \u001b[1;32mIn[1], line 1\u001b[0m\n\u001b[1;32m----> 1\u001b[0m SL1 \u001b[38;5;241m=\u001b[39m \u001b[43mxl\u001b[49m\u001b[38;5;241m.\u001b[39mSpinLabel(\u001b[38;5;124m'\u001b[39m\u001b[38;5;124mR1M\u001b[39m\u001b[38;5;124m'\u001b[39m) \n\u001b[0;32m      2\u001b[0m SL2 \u001b[38;5;241m=\u001b[39m xl\u001b[38;5;241m.\u001b[39mSpinLabel(\u001b[38;5;124m'\u001b[39m\u001b[38;5;124mR1M\u001b[39m\u001b[38;5;124m'\u001b[39m, sample\u001b[38;5;241m=\u001b[39m\u001b[38;5;241m100\u001b[39m) \n\u001b[0;32m      3\u001b[0m SL3 \u001b[38;5;241m=\u001b[39m xl\u001b[38;5;241m.\u001b[39mSpinLabel(\u001b[38;5;124m'\u001b[39m\u001b[38;5;124mR1M\u001b[39m\u001b[38;5;124m'\u001b[39m, sample\u001b[38;5;241m=\u001b[39m\u001b[38;5;241m100\u001b[39m, dihedral_sigmas\u001b[38;5;241m=\u001b[39mnp\u001b[38;5;241m.\u001b[39minf)\n",
      "\u001b[1;31mNameError\u001b[0m: name 'xl' is not defined"
     ]
    }
   ],
   "source": [
    "SL1 = xl.SpinLabel('R1M') \n",
    "SL2 = xl.SpinLabel('R1M', sample=500) \n",
    "SL3 = xl.SpinLabel('R1M', sample=500, dihedral_sigmas=np.inf)\n",
    "\n",
    "fig, ax = plt.subplots()\n",
    "ax.hist(SL1.dihedrals[:,2], alpha=0.5, bins=20)\n",
    "ax.hist(SL2.dihedrals[:,2], alpha=0.5, bins=20)\n",
    "ax.hist(SL3.dihedrals[:,2], alpha=0.5, bins=20)\n",
    "plt.show()"
   ]
  },
  {
   "cell_type": "markdown",
   "id": "7dba987a-e423-45d7-bee3-fc22c8618500",
   "metadata": {},
   "source": [
    "* But wait,! There's more!\n",
    "* We can even sample on a per-dihedral basis\n",
    "* Those of you familiar with R1 spin label dynamics know that oftentimes most of the structural variability of R1 comes only from $\\chi_{4/5}$.\n",
    "* chiLife can emulate this by setting only some dihedrals to sample."
   ]
  },
  {
   "cell_type": "code",
   "execution_count": null,
   "id": "a29cca1c-5d09-4731-bc48-fa0d01558220",
   "metadata": {},
   "outputs": [],
   "source": [
    "\n",
    "R1M = xl.SpinLabel('R1M', sample=100, dihedral_sigmas=[0, 0, 0, np.inf, np.inf])   \n",
    "xl.save('R1M_partial_sample.pdb', R1M) \n"
   ]
  },
  {
   "cell_type": "markdown",
   "id": "950a4463-afca-4fc9-89bf-94a395f29fca",
   "metadata": {},
   "source": [
    "* This can also be useful with very large spin labels that have some highly flexible sites and some less flexible sites.  \n",
    "\n",
    "\n",
    "## Emulating MMM and mtsslWizard\n",
    "* Those of you who have used the accessibale volume and rotamer library approaches before probably know they come from mtsslWizard and MMM respectivly.\n",
    "* While chilife uses the same principals of rotamer ensemble constructure from these applications, a lot of the default parameters are different.\n",
    "* To more accuratly mimic mtsslWizard and MMM you can use the from_wizard and from_mmm class methods."
   ]
  },
  {
   "cell_type": "code",
   "execution_count": 4,
   "id": "99eeab94-d125-46d0-8f99-c38fae5d9f93",
   "metadata": {},
   "outputs": [
    {
     "ename": "NameError",
     "evalue": "name 'xl' is not defined",
     "output_type": "error",
     "traceback": [
      "\u001b[1;31m---------------------------------------------------------------------------\u001b[0m",
      "\u001b[1;31mNameError\u001b[0m                                 Traceback (most recent call last)",
      "Cell \u001b[1;32mIn[4], line 1\u001b[0m\n\u001b[1;32m----> 1\u001b[0m R1M \u001b[38;5;241m=\u001b[39m \u001b[43mxl\u001b[49m\u001b[38;5;241m.\u001b[39mSpinLabel\u001b[38;5;241m.\u001b[39mfrom_mmm(\u001b[38;5;124m'\u001b[39m\u001b[38;5;124mR1M\u001b[39m\u001b[38;5;124m'\u001b[39m)\n\u001b[0;32m      2\u001b[0m R1M \u001b[38;5;241m=\u001b[39m xl\u001b[38;5;241m.\u001b[39mSpinLabel\u001b[38;5;241m.\u001b[39mfrom_wizard(\u001b[38;5;124m'\u001b[39m\u001b[38;5;124mR1M\u001b[39m\u001b[38;5;124m'\u001b[39m)\n",
      "\u001b[1;31mNameError\u001b[0m: name 'xl' is not defined"
     ]
    }
   ],
   "source": [
    "R1M = xl.SpinLabel.from_mmm('R1M')\n",
    "R1M = xl.SpinLabel.from_wizard('R1M')"
   ]
  }
 ],
 "metadata": {
  "kernelspec": {
   "display_name": " Python 3.12",
   "language": "python",
   "name": "python3"
  },
  "language_info": {
   "codemirror_mode": {
    "name": "ipython",
    "version": 3
   },
   "file_extension": ".py",
   "mimetype": "text/x-python",
   "name": "python",
   "nbconvert_exporter": "python",
   "pygments_lexer": "ipython3",
   "version": "3.12.3"
  }
 },
 "nbformat": 4,
 "nbformat_minor": 5
}
